{
 "cells": [
  {
   "cell_type": "markdown",
   "id": "d24ae49a",
   "metadata": {},
   "source": [
    "# VeRL Ray API Tutorial"
   ]
  },
  {
   "cell_type": "markdown",
   "id": "ed90653b",
   "metadata": {},
   "source": [
    "## Chapter 1: Ray Basics"
   ]
  },
  {
   "cell_type": "code",
   "execution_count": 107,
   "id": "2ccef0a0",
   "metadata": {
    "tags": []
   },
   "outputs": [],
   "source": [
    "import os"
   ]
  },
  {
   "cell_type": "code",
   "execution_count": 108,
   "id": "d66c2072",
   "metadata": {
    "tags": []
   },
   "outputs": [],
   "source": [
    "import ray\n",
    "import torch"
   ]
  },
  {
   "cell_type": "code",
   "execution_count": 109,
   "id": "34e53437",
   "metadata": {
    "tags": []
   },
   "outputs": [
    {
     "name": "stderr",
     "output_type": "stream",
     "text": [
      "2024-11-01 17:02:02,105\tINFO worker.py:1752 -- Started a local Ray instance.\n"
     ]
    },
    {
     "data": {
      "application/vnd.jupyter.widget-view+json": {
       "model_id": "134fa21b0e414df5ac4122d5d29b5ce3",
       "version_major": 2,
       "version_minor": 0
      },
      "text/html": [
       "<div class=\"lm-Widget p-Widget lm-Panel p-Panel jp-Cell-outputWrapper\">\n",
       "    <div style=\"margin-left: 50px;display: flex;flex-direction: row;align-items: center\">\n",
       "        <div class=\"jp-RenderedHTMLCommon\" style=\"display: flex; flex-direction: row;\">\n",
       "  <svg viewBox=\"0 0 567 224\" fill=\"none\" xmlns=\"http://www.w3.org/2000/svg\" style=\"height: 3em;\">\n",
       "    <g clip-path=\"url(#clip0_4338_178347)\">\n",
       "        <path d=\"M341.29 165.561H355.29L330.13 129.051C345.63 123.991 354.21 112.051 354.21 94.2307C354.21 71.3707 338.72 58.1807 311.88 58.1807H271V165.561H283.27V131.661H311.8C314.25 131.661 316.71 131.501 319.01 131.351L341.25 165.561H341.29ZM283.29 119.851V70.0007H311.82C331.3 70.0007 342.34 78.2907 342.34 94.5507C342.34 111.271 331.34 119.861 311.82 119.861L283.29 119.851ZM451.4 138.411L463.4 165.561H476.74L428.74 58.1807H416L367.83 165.561H380.83L392.83 138.411H451.4ZM446.19 126.601H398L422 72.1407L446.24 126.601H446.19ZM526.11 128.741L566.91 58.1807H554.35L519.99 114.181L485.17 58.1807H472.44L514.01 129.181V165.541H526.13V128.741H526.11Z\" fill=\"var(--jp-ui-font-color0)\"/>\n",
       "        <path d=\"M82.35 104.44C84.0187 97.8827 87.8248 92.0678 93.1671 87.9146C98.5094 83.7614 105.083 81.5067 111.85 81.5067C118.617 81.5067 125.191 83.7614 130.533 87.9146C135.875 92.0678 139.681 97.8827 141.35 104.44H163.75C164.476 101.562 165.622 98.8057 167.15 96.2605L127.45 56.5605C121.071 60.3522 113.526 61.6823 106.235 60.3005C98.9443 58.9187 92.4094 54.9203 87.8602 49.0574C83.3109 43.1946 81.0609 35.8714 81.5332 28.4656C82.0056 21.0599 85.1679 14.0819 90.4252 8.8446C95.6824 3.60726 102.672 0.471508 110.08 0.0272655C117.487 -0.416977 124.802 1.86091 130.647 6.4324C136.493 11.0039 140.467 17.5539 141.821 24.8501C143.175 32.1463 141.816 39.6859 138 46.0505L177.69 85.7505C182.31 82.9877 187.58 81.4995 192.962 81.4375C198.345 81.3755 203.648 82.742 208.33 85.3976C213.012 88.0532 216.907 91.9029 219.616 96.5544C222.326 101.206 223.753 106.492 223.753 111.875C223.753 117.258 222.326 122.545 219.616 127.197C216.907 131.848 213.012 135.698 208.33 138.353C203.648 141.009 198.345 142.375 192.962 142.313C187.58 142.251 182.31 140.763 177.69 138L138 177.7C141.808 184.071 143.155 191.614 141.79 198.91C140.424 206.205 136.44 212.75 130.585 217.313C124.731 221.875 117.412 224.141 110.004 223.683C102.596 223.226 95.6103 220.077 90.3621 214.828C85.1139 209.58 81.9647 202.595 81.5072 195.187C81.0497 187.779 83.3154 180.459 87.878 174.605C92.4405 168.751 98.9853 164.766 106.281 163.401C113.576 162.035 121.119 163.383 127.49 167.19L167.19 127.49C165.664 124.941 164.518 122.182 163.79 119.3H141.39C139.721 125.858 135.915 131.673 130.573 135.826C125.231 139.98 118.657 142.234 111.89 142.234C105.123 142.234 98.5494 139.98 93.2071 135.826C87.8648 131.673 84.0587 125.858 82.39 119.3H60C58.1878 126.495 53.8086 132.78 47.6863 136.971C41.5641 141.163 34.1211 142.972 26.7579 142.059C19.3947 141.146 12.6191 137.574 7.70605 132.014C2.79302 126.454 0.0813599 119.29 0.0813599 111.87C0.0813599 104.451 2.79302 97.2871 7.70605 91.7272C12.6191 86.1673 19.3947 82.5947 26.7579 81.6817C34.1211 80.7686 41.5641 82.5781 47.6863 86.7696C53.8086 90.9611 58.1878 97.2456 60 104.44H82.35ZM100.86 204.32C103.407 206.868 106.759 208.453 110.345 208.806C113.93 209.159 117.527 208.258 120.522 206.256C123.517 204.254 125.725 201.276 126.771 197.828C127.816 194.38 127.633 190.677 126.253 187.349C124.874 184.021 122.383 181.274 119.205 179.577C116.027 177.88 112.359 177.337 108.826 178.042C105.293 178.746 102.113 180.654 99.8291 183.44C97.5451 186.226 96.2979 189.718 96.3 193.32C96.2985 195.364 96.7006 197.388 97.4831 199.275C98.2656 201.163 99.4132 202.877 100.86 204.32ZM204.32 122.88C206.868 120.333 208.453 116.981 208.806 113.396C209.159 109.811 208.258 106.214 206.256 103.219C204.254 100.223 201.275 98.0151 197.827 96.97C194.38 95.9249 190.676 96.1077 187.348 97.4873C184.02 98.8669 181.274 101.358 179.577 104.536C177.879 107.714 177.337 111.382 178.041 114.915C178.746 118.448 180.653 121.627 183.439 123.911C186.226 126.195 189.717 127.443 193.32 127.44C195.364 127.443 197.388 127.042 199.275 126.259C201.163 125.476 202.878 124.328 204.32 122.88ZM122.88 19.4205C120.333 16.8729 116.981 15.2876 113.395 14.9347C109.81 14.5817 106.213 15.483 103.218 17.4849C100.223 19.4868 98.0146 22.4654 96.9696 25.9131C95.9245 29.3608 96.1073 33.0642 97.4869 36.3922C98.8665 39.7202 101.358 42.4668 104.535 44.1639C107.713 45.861 111.381 46.4036 114.914 45.6992C118.447 44.9949 121.627 43.0871 123.911 40.301C126.195 37.515 127.442 34.0231 127.44 30.4205C127.44 28.3772 127.038 26.3539 126.255 24.4664C125.473 22.5788 124.326 20.8642 122.88 19.4205ZM19.42 100.86C16.8725 103.408 15.2872 106.76 14.9342 110.345C14.5813 113.93 15.4826 117.527 17.4844 120.522C19.4863 123.518 22.4649 125.726 25.9127 126.771C29.3604 127.816 33.0638 127.633 36.3918 126.254C39.7198 124.874 42.4664 122.383 44.1635 119.205C45.8606 116.027 46.4032 112.359 45.6988 108.826C44.9944 105.293 43.0866 102.114 40.3006 99.8296C37.5145 97.5455 34.0227 96.2983 30.42 96.3005C26.2938 96.3018 22.337 97.9421 19.42 100.86ZM100.86 100.86C98.3125 103.408 96.7272 106.76 96.3742 110.345C96.0213 113.93 96.9226 117.527 98.9244 120.522C100.926 123.518 103.905 125.726 107.353 126.771C110.8 127.816 114.504 127.633 117.832 126.254C121.16 124.874 123.906 122.383 125.604 119.205C127.301 116.027 127.843 112.359 127.139 108.826C126.434 105.293 124.527 102.114 121.741 99.8296C118.955 97.5455 115.463 96.2983 111.86 96.3005C109.817 96.299 107.793 96.701 105.905 97.4835C104.018 98.2661 102.303 99.4136 100.86 100.86Z\" fill=\"#00AEEF\"/>\n",
       "    </g>\n",
       "    <defs>\n",
       "        <clipPath id=\"clip0_4338_178347\">\n",
       "            <rect width=\"566.93\" height=\"223.75\" fill=\"white\"/>\n",
       "        </clipPath>\n",
       "    </defs>\n",
       "  </svg>\n",
       "</div>\n",
       "\n",
       "        <table class=\"jp-RenderedHTMLCommon\" style=\"border-collapse: collapse;color: var(--jp-ui-font-color1);font-size: var(--jp-ui-font-size1);\">\n",
       "    <tr>\n",
       "        <td style=\"text-align: left\"><b>Python version:</b></td>\n",
       "        <td style=\"text-align: left\"><b>3.9.2</b></td>\n",
       "    </tr>\n",
       "    <tr>\n",
       "        <td style=\"text-align: left\"><b>Ray version:</b></td>\n",
       "        <td style=\"text-align: left\"><b>2.10.0</b></td>\n",
       "    </tr>\n",
       "    \n",
       "</table>\n",
       "\n",
       "    </div>\n",
       "</div>\n"
      ],
      "text/plain": [
       "RayContext(dashboard_url='', python_version='3.9.2', ray_version='2.10.0', ray_commit='09abba26b5bf2707639bb637c208d062a47b46f6')"
      ]
     },
     "execution_count": 109,
     "metadata": {},
     "output_type": "execute_result"
    },
    {
     "name": "stdout",
     "output_type": "stream",
     "text": [
      "\u001b[36m(GPUAccumulator pid=158514)\u001b[0m rank 0, value: tensor([1.], device='cuda:0')\n",
      "\u001b[36m(GPUAccumulator pid=159415)\u001b[0m rank 1, value: tensor([2.], device='cuda:0')\n",
      "\u001b[36m(GPUAccumulator pid=159748)\u001b[0m rank 0, value: tensor([2.], device='cuda:0')\n",
      "\u001b[36m(GPUAccumulator pid=160534)\u001b[0m rank 3, value: tensor([5.], device='cuda:0')\n",
      "\u001b[36m(GPUAccumulator pid=160871)\u001b[0m rank 5, value: tensor([8.], device='cuda:0')\n",
      "\u001b[36m(GPUAccumulatorDecorator pid=161621)\u001b[0m 10\n",
      "\u001b[36m(GPUAccumulatorDecorator pid=161621)\u001b[0m rank 0, value: tensor([10.], device='cuda:0')\n",
      "\u001b[36m(GPUAccumulatorDecorator pid=161770)\u001b[0m 10\n",
      "\u001b[36m(GPUAccumulatorDecorator pid=161770)\u001b[0m rank 6, value: tensor([16.], device='cuda:0')\n",
      "\u001b[36m(GPUAccumulatorDecorator pid=161767)\u001b[0m 10\n",
      "\u001b[36m(GPUAccumulatorDecorator pid=161767)\u001b[0m rank 3, value: tensor([13.], device='cuda:0')\n",
      "\u001b[36m(GPUAccumulatorDecorator pid=161771)\u001b[0m 10\n",
      "\u001b[36m(GPUAccumulatorDecorator pid=161771)\u001b[0m rank 7, value: tensor([17.], device='cuda:0')\n"
     ]
    }
   ],
   "source": [
    "# Build a local ray cluster. The head node and worker node are on this machine\n",
    "ray.init()"
   ]
  },
  {
   "cell_type": "markdown",
   "id": "276367a5",
   "metadata": {},
   "source": [
    "Implement an Accumulator class."
   ]
  },
  {
   "cell_type": "code",
   "execution_count": 110,
   "id": "cb65717b",
   "metadata": {
    "tags": []
   },
   "outputs": [],
   "source": [
    "# Instantiate an accumulator. Accumulator can be viewed as a process, acting as an RPC service.\n",
    "accumulator = Accumulator.remote()"
   ]
  },
  {
   "cell_type": "code",
   "execution_count": 111,
   "id": "9313b524",
   "metadata": {
    "tags": []
   },
   "outputs": [
    {
     "name": "stdout",
     "output_type": "stream",
     "text": [
      "0\n"
     ]
    }
   ],
   "source": [
    "value_ref = accumulator.get_value.remote() # Check the current value. Note that this function returns immediately and does not actually wait for the remote execution to complete.\n",
    "# Get the value\n",
    "value = ray.get(value_ref)\n",
    "print(value)"
   ]
  },
  {
   "cell_type": "code",
   "execution_count": 112,
   "id": "7e491214",
   "metadata": {
    "tags": []
   },
   "outputs": [
    {
     "name": "stdout",
     "output_type": "stream",
     "text": [
      "10\n"
     ]
    }
   ],
   "source": [
    "# Accumulate, then check the result.\n",
    "accumulator.add.remote(10)  # Similarly, the 'add' here will return immediately.\n",
    "new_value = ray.get(accumulator.get_value.remote())\n",
    "print(new_value)"
   ]
  },
  {
   "cell_type": "markdown",
   "id": "11864ff8",
   "metadata": {},
   "source": [
    "## Chapter 2: Resource Pool and RayWorkerGroup\n",
    "In the previous example, it was a simple single-process worker. \n",
    "In this example, we implement a worker with a GPU and form a RayWorkerGroup. Within this RayWorkerGroup, we implement a simple operation of an accumulator."
   ]
  },
  {
   "cell_type": "code",
   "execution_count": 113,
   "id": "1e6dd3f1",
   "metadata": {
    "tags": []
   },
   "outputs": [],
   "source": [
    "from single_controller.ray.base import RayResourcePool, RayClassWithInitArgs, RayWorkerGroup, merge_resource_pool\n",
    "from single_controller.base import Worker"
   ]
  },
  {
   "cell_type": "code",
   "execution_count": 114,
   "id": "7d96389d",
   "metadata": {
    "tags": []
   },
   "outputs": [],
   "source": [
    "resource_pool = RayResourcePool([4], use_gpu=True)"
   ]
  },
  {
   "cell_type": "code",
   "execution_count": 115,
   "id": "994393b6",
   "metadata": {
    "tags": []
   },
   "outputs": [],
   "source": [
    "@ray.remote\n",
    "class GPUAccumulator(Worker):\n",
    "\n",
    "    def __init__(self) -> None:\n",
    "        super().__init__()\n",
    "        # The initial value of each rank is the same as the rank\n",
    "        self.value = torch.zeros(size=(1,), device='cuda') + self.rank\n",
    "\n",
    "    def add(self, x):\n",
    "        self.value += x\n",
    "        print(f'rank {self.rank}, value: {self.value}')\n",
    "        return self.value.cpu()\n"
   ]
  },
  {
   "cell_type": "code",
   "execution_count": 116,
   "id": "62501e31",
   "metadata": {
    "tags": []
   },
   "outputs": [
    {
     "name": "stdout",
     "output_type": "stream",
     "text": [
      "[tensor([1.]), tensor([2.]), tensor([3.]), tensor([4.])]\n"
     ]
    }
   ],
   "source": [
    "# Each worker's initial value is its rank, and then each rank's value is incremented by 1, so the values obtained on each rank are [1, 2, 3, 4]\n",
    "class_with_args = RayClassWithInitArgs(cls=GPUAccumulator)\n",
    "worker_group = RayWorkerGroup(resource_pool, class_with_args)\n",
    "print(worker_group.execute_all_sync('add', x=[1,1,1,1]))"
   ]
  },
  {
   "cell_type": "markdown",
   "id": "49731721",
   "metadata": {},
   "source": [
    "The principle of parameter passing: The input parameter is a list of length world_size, where each element in the list is dispatched respectively to each worker in the RayWorkerGroup. \n",
    "The return parameter is also a list, corresponding to the return value of each worker."
   ]
  },
  {
   "cell_type": "markdown",
   "id": "df8c3023",
   "metadata": {},
   "source": [
    "### GPU Resource Sharing"
   ]
  },
  {
   "cell_type": "markdown",
   "id": "2288e8b5",
   "metadata": {},
   "source": [
    "RayWorkerGroups mapped to the same resource pool share the GPU. In this example, we implement three resource pools: the first occupies 4 GPUs, the second also occupies 4 GPUs, and the last occupies all 8 GPUs. Among them, the first resource pool reuses the resource pool mentioned above."
   ]
  },
  {
   "cell_type": "code",
   "execution_count": 117,
   "id": "149e82fa",
   "metadata": {
    "tags": []
   },
   "outputs": [],
   "source": [
    "# Create a new resource pool and then merge the newly created resource pool with the previous one.\n",
    "resource_pool_1 = RayResourcePool([4], use_gpu=True, name_prefix='a')\n",
    "resource_pool_merge = merge_resource_pool(resource_pool, resource_pool_1)"
   ]
  },
  {
   "cell_type": "code",
   "execution_count": 118,
   "id": "4d78d776",
   "metadata": {
    "tags": []
   },
   "outputs": [],
   "source": [
    "# Establish a RayWorkerGroup on the newly created resource pool.\n",
    "worker_group_1 = RayWorkerGroup(resource_pool_1, class_with_args)\n",
    "worker_group_merge = RayWorkerGroup(resource_pool_merge, class_with_args)"
   ]
  },
  {
   "cell_type": "code",
   "execution_count": 119,
   "id": "31c6a5dd",
   "metadata": {
    "tags": []
   },
   "outputs": [
    {
     "name": "stdout",
     "output_type": "stream",
     "text": [
      "[tensor([2.]), tensor([3.]), tensor([4.]), tensor([5.])]\n"
     ]
    }
   ],
   "source": [
    "# Run 'add' on the second set of 4 GPUs; the result should be [2, 3, 4, 5].\n",
    "output_1 = worker_group_1.execute_all_sync('add', x=[2,2,2,2])\n",
    "print(output_1)"
   ]
  },
  {
   "cell_type": "code",
   "execution_count": 120,
   "id": "4fd139ce",
   "metadata": {
    "tags": []
   },
   "outputs": [
    {
     "name": "stdout",
     "output_type": "stream",
     "text": [
      "[tensor([3.]), tensor([4.]), tensor([5.]), tensor([6.]), tensor([7.]), tensor([8.]), tensor([9.]), tensor([10.])]\n"
     ]
    }
   ],
   "source": [
    "# Run 'add' on the merged set of 8 GPUs; the result should be [3, 4, 5, 6, 7, 8, 9, 10].\n",
    "output_merge = worker_group_merge.execute_all_sync('add', x=[3,3,3,3,3,3,3,3])\n",
    "print(output_merge)"
   ]
  },
  {
   "cell_type": "code",
   "execution_count": 121,
   "id": "ad11ea6b",
   "metadata": {
    "tags": []
   },
   "outputs": [
    {
     "name": "stdout",
     "output_type": "stream",
     "text": [
      "4 4 8\n"
     ]
    }
   ],
   "source": [
    "print(worker_group.world_size, worker_group_1.world_size, worker_group_merge.world_size)"
   ]
  },
  {
   "cell_type": "markdown",
   "id": "a93e64ce",
   "metadata": {},
   "source": [
    "## Chapter 3: Data Dispatch, Execution and Collection"
   ]
  },
  {
   "cell_type": "markdown",
   "id": "467ec6a5",
   "metadata": {},
   "source": [
    "In the above example, we used the `execute_all_sync` function in the RayWorkerGroup to dispatch data from the driver to each worker. This is very inconvenient for coding. \n",
    "In this chapter, we use the form of function decorators to allow RayWorkerGroup to directly call functions written in the Worker, and to greatly simplify parameter passing."
   ]
  },
  {
   "cell_type": "code",
   "execution_count": 122,
   "id": "28dcc4e1",
   "metadata": {
    "tags": []
   },
   "outputs": [],
   "source": [
    "from single_controller.ray.decorator import register, Dispatch, Execute"
   ]
  },
  {
   "cell_type": "code",
   "execution_count": 123,
   "id": "c76ba79b",
   "metadata": {
    "tags": []
   },
   "outputs": [],
   "source": [
    "@ray.remote\n",
    "class GPUAccumulatorDecorator(Worker):\n",
    "\n",
    "    def __init__(self) -> None:\n",
    "        super().__init__()\n",
    "        # The initial value of each rank is the same as the rank\n",
    "        self.value = torch.zeros(size=(1,), device='cuda') + self.rank\n",
    "    \n",
    "    # map from a single input to all the worker\n",
    "    @register(Dispatch.ONE_TO_ALL)\n",
    "    def add(self, x):\n",
    "        print(x)\n",
    "        self.value = self.value + x\n",
    "        print(f'rank {self.rank}, value: {self.value}')\n",
    "        return self.value.cpu()"
   ]
  },
  {
   "cell_type": "code",
   "execution_count": 124,
   "id": "4623acd2",
   "metadata": {
    "tags": []
   },
   "outputs": [],
   "source": [
    "class_with_args = RayClassWithInitArgs(cls=GPUAccumulatorDecorator)\n",
    "gpu_accumulator_decorator = RayWorkerGroup(resource_pool_merge, class_with_args)"
   ]
  },
  {
   "cell_type": "code",
   "execution_count": 125,
   "id": "19c32331",
   "metadata": {
    "tags": []
   },
   "outputs": [
    {
     "name": "stdout",
     "output_type": "stream",
     "text": [
      "[tensor([10.]), tensor([11.]), tensor([12.]), tensor([13.]), tensor([14.]), tensor([15.]), tensor([16.]), tensor([17.])]\n"
     ]
    }
   ],
   "source": [
    "# As we can see, 10 is automatically dispatched to each Worker in this RayWorkerGroup.\n",
    "print(gpu_accumulator_decorator.add(x=10))"
   ]
  },
  {
   "cell_type": "markdown",
   "id": "c313e652",
   "metadata": {},
   "source": [
    "### Custom Dispatch, Collection\n",
    "Users can customize `dispatch` and `collection` function. You only need to write the `dispatch_fn` and `collect_fn` functions yourself. We also support executing RPC only on rank_zero, with specific examples provided below."
   ]
  },
  {
   "cell_type": "code",
   "execution_count": 126,
   "id": "9fe97664",
   "metadata": {
    "tags": []
   },
   "outputs": [],
   "source": [
    "from single_controller.ray.decorator import register, Dispatch, collect_all_to_all, Execute"
   ]
  },
  {
   "cell_type": "code",
   "execution_count": 127,
   "id": "2c6edc48",
   "metadata": {
    "tags": []
   },
   "outputs": [],
   "source": [
    "def two_to_all_dispatch_fn(worker_group, *args, **kwargs):\n",
    "    \"\"\"\n",
    "    Assume the input is a list of 2. Duplicate the input interleaved and pass to each worker.\n",
    "    \"\"\"\n",
    "    for arg in args:\n",
    "        assert len(arg) == 2\n",
    "        for i in range(worker_group.world_size - 2):\n",
    "            arg.append(arg[i % 2])\n",
    "    for k, v in kwargs.items():\n",
    "        assert len(v) == 2\n",
    "        for i in range(worker_group.world_size - 2):\n",
    "            v.append(v[i % 2])\n",
    "    return args, kwargs\n",
    "\n",
    "\n",
    "@ray.remote\n",
    "class TestActor(Worker):\n",
    "    # TODO: pass *args and **kwargs is bug prone and not very convincing\n",
    "    def __init__(self, x) -> None:\n",
    "        super().__init__()\n",
    "        self._x = x\n",
    "\n",
    "    def foo(self, y):\n",
    "        return self._x + y\n",
    "\n",
    "    @register(dispatch_mode=Dispatch.ALL_TO_ALL, execute_mode=Execute.RANK_ZERO)\n",
    "    def foo_rank_zero(self, x, y):\n",
    "        return self._x + y + x\n",
    "\n",
    "    @register(dispatch_mode={'dispatch_fn': two_to_all_dispatch_fn, 'collect_fn': collect_all_to_all})\n",
    "    def foo_custom(self, x, y):\n",
    "        return self._x + y + x"
   ]
  },
  {
   "cell_type": "code",
   "execution_count": 128,
   "id": "f4569da6",
   "metadata": {
    "tags": []
   },
   "outputs": [],
   "source": [
    "class_with_args = RayClassWithInitArgs(cls=TestActor, x=2)\n",
    "worker_group = RayWorkerGroup(resource_pool, class_with_args)"
   ]
  },
  {
   "cell_type": "code",
   "execution_count": 129,
   "id": "13671aa4",
   "metadata": {
    "tags": []
   },
   "outputs": [],
   "source": [
    "output_ref = worker_group.foo_custom(x=[1, 2], y=[5, 6])\n",
    "assert output_ref == [8, 10, 8, 10]\n",
    "\n",
    "output_ref = worker_group.foo_rank_zero(x=1, y=2)\n",
    "assert output_ref == 5"
   ]
  },
  {
   "cell_type": "code",
   "execution_count": 130,
   "id": "bdc3fd15",
   "metadata": {
    "tags": []
   },
   "outputs": [
    {
     "name": "stdout",
     "output_type": "stream",
     "text": [
      "8\n"
     ]
    }
   ],
   "source": [
    "print(gpu_accumulator_decorator.world_size)"
   ]
  },
  {
   "cell_type": "code",
   "execution_count": 131,
   "id": "97cfc27b",
   "metadata": {
    "tags": []
   },
   "outputs": [],
   "source": [
    "# Shutdown ray cluster\n",
    "ray.shutdown()"
   ]
  },
  {
   "cell_type": "markdown",
   "id": "beb16a05-5af9-441d-9536-d1439dcbb183",
   "metadata": {},
   "source": [
    "## Chapter 4: NVMegatronRayWorkerGroup"
   ]
  },
  {
   "cell_type": "markdown",
   "id": "cfef3448-3a48-4987-85de-7ec0f068b818",
   "metadata": {},
   "source": [
    "Due to the Ray issue, we can only support max_colocate_count=1 in RayResourcePool for now. \n",
    "This means that each GPU can only have one process.\n",
    "We can support max_colocate > 1 when applying this pull request: https://github.com/ray-project/ray/pull/44385"
   ]
  },
  {
   "cell_type": "markdown",
   "id": "a07a7603-6376-48ae-968e-50eadedaa9ce",
   "metadata": {},
   "source": [
    "Therefore, we need to restart the ray and initialize a new resource_pool to demonstrate the **NVMegatronRayWorkerGroup**"
   ]
  },
  {
   "cell_type": "code",
   "execution_count": 132,
   "id": "f402dbda",
   "metadata": {
    "tags": []
   },
   "outputs": [
    {
     "name": "stderr",
     "output_type": "stream",
     "text": [
      "2024-11-01 17:02:52,018\tINFO worker.py:1752 -- Started a local Ray instance.\n"
     ]
    },
    {
     "data": {
      "application/vnd.jupyter.widget-view+json": {
       "model_id": "d9d03a4fc6e547a6809b4e131f593aa5",
       "version_major": 2,
       "version_minor": 0
      },
      "text/html": [
       "<div class=\"lm-Widget p-Widget lm-Panel p-Panel jp-Cell-outputWrapper\">\n",
       "    <div style=\"margin-left: 50px;display: flex;flex-direction: row;align-items: center\">\n",
       "        <div class=\"jp-RenderedHTMLCommon\" style=\"display: flex; flex-direction: row;\">\n",
       "  <svg viewBox=\"0 0 567 224\" fill=\"none\" xmlns=\"http://www.w3.org/2000/svg\" style=\"height: 3em;\">\n",
       "    <g clip-path=\"url(#clip0_4338_178347)\">\n",
       "        <path d=\"M341.29 165.561H355.29L330.13 129.051C345.63 123.991 354.21 112.051 354.21 94.2307C354.21 71.3707 338.72 58.1807 311.88 58.1807H271V165.561H283.27V131.661H311.8C314.25 131.661 316.71 131.501 319.01 131.351L341.25 165.561H341.29ZM283.29 119.851V70.0007H311.82C331.3 70.0007 342.34 78.2907 342.34 94.5507C342.34 111.271 331.34 119.861 311.82 119.861L283.29 119.851ZM451.4 138.411L463.4 165.561H476.74L428.74 58.1807H416L367.83 165.561H380.83L392.83 138.411H451.4ZM446.19 126.601H398L422 72.1407L446.24 126.601H446.19ZM526.11 128.741L566.91 58.1807H554.35L519.99 114.181L485.17 58.1807H472.44L514.01 129.181V165.541H526.13V128.741H526.11Z\" fill=\"var(--jp-ui-font-color0)\"/>\n",
       "        <path d=\"M82.35 104.44C84.0187 97.8827 87.8248 92.0678 93.1671 87.9146C98.5094 83.7614 105.083 81.5067 111.85 81.5067C118.617 81.5067 125.191 83.7614 130.533 87.9146C135.875 92.0678 139.681 97.8827 141.35 104.44H163.75C164.476 101.562 165.622 98.8057 167.15 96.2605L127.45 56.5605C121.071 60.3522 113.526 61.6823 106.235 60.3005C98.9443 58.9187 92.4094 54.9203 87.8602 49.0574C83.3109 43.1946 81.0609 35.8714 81.5332 28.4656C82.0056 21.0599 85.1679 14.0819 90.4252 8.8446C95.6824 3.60726 102.672 0.471508 110.08 0.0272655C117.487 -0.416977 124.802 1.86091 130.647 6.4324C136.493 11.0039 140.467 17.5539 141.821 24.8501C143.175 32.1463 141.816 39.6859 138 46.0505L177.69 85.7505C182.31 82.9877 187.58 81.4995 192.962 81.4375C198.345 81.3755 203.648 82.742 208.33 85.3976C213.012 88.0532 216.907 91.9029 219.616 96.5544C222.326 101.206 223.753 106.492 223.753 111.875C223.753 117.258 222.326 122.545 219.616 127.197C216.907 131.848 213.012 135.698 208.33 138.353C203.648 141.009 198.345 142.375 192.962 142.313C187.58 142.251 182.31 140.763 177.69 138L138 177.7C141.808 184.071 143.155 191.614 141.79 198.91C140.424 206.205 136.44 212.75 130.585 217.313C124.731 221.875 117.412 224.141 110.004 223.683C102.596 223.226 95.6103 220.077 90.3621 214.828C85.1139 209.58 81.9647 202.595 81.5072 195.187C81.0497 187.779 83.3154 180.459 87.878 174.605C92.4405 168.751 98.9853 164.766 106.281 163.401C113.576 162.035 121.119 163.383 127.49 167.19L167.19 127.49C165.664 124.941 164.518 122.182 163.79 119.3H141.39C139.721 125.858 135.915 131.673 130.573 135.826C125.231 139.98 118.657 142.234 111.89 142.234C105.123 142.234 98.5494 139.98 93.2071 135.826C87.8648 131.673 84.0587 125.858 82.39 119.3H60C58.1878 126.495 53.8086 132.78 47.6863 136.971C41.5641 141.163 34.1211 142.972 26.7579 142.059C19.3947 141.146 12.6191 137.574 7.70605 132.014C2.79302 126.454 0.0813599 119.29 0.0813599 111.87C0.0813599 104.451 2.79302 97.2871 7.70605 91.7272C12.6191 86.1673 19.3947 82.5947 26.7579 81.6817C34.1211 80.7686 41.5641 82.5781 47.6863 86.7696C53.8086 90.9611 58.1878 97.2456 60 104.44H82.35ZM100.86 204.32C103.407 206.868 106.759 208.453 110.345 208.806C113.93 209.159 117.527 208.258 120.522 206.256C123.517 204.254 125.725 201.276 126.771 197.828C127.816 194.38 127.633 190.677 126.253 187.349C124.874 184.021 122.383 181.274 119.205 179.577C116.027 177.88 112.359 177.337 108.826 178.042C105.293 178.746 102.113 180.654 99.8291 183.44C97.5451 186.226 96.2979 189.718 96.3 193.32C96.2985 195.364 96.7006 197.388 97.4831 199.275C98.2656 201.163 99.4132 202.877 100.86 204.32ZM204.32 122.88C206.868 120.333 208.453 116.981 208.806 113.396C209.159 109.811 208.258 106.214 206.256 103.219C204.254 100.223 201.275 98.0151 197.827 96.97C194.38 95.9249 190.676 96.1077 187.348 97.4873C184.02 98.8669 181.274 101.358 179.577 104.536C177.879 107.714 177.337 111.382 178.041 114.915C178.746 118.448 180.653 121.627 183.439 123.911C186.226 126.195 189.717 127.443 193.32 127.44C195.364 127.443 197.388 127.042 199.275 126.259C201.163 125.476 202.878 124.328 204.32 122.88ZM122.88 19.4205C120.333 16.8729 116.981 15.2876 113.395 14.9347C109.81 14.5817 106.213 15.483 103.218 17.4849C100.223 19.4868 98.0146 22.4654 96.9696 25.9131C95.9245 29.3608 96.1073 33.0642 97.4869 36.3922C98.8665 39.7202 101.358 42.4668 104.535 44.1639C107.713 45.861 111.381 46.4036 114.914 45.6992C118.447 44.9949 121.627 43.0871 123.911 40.301C126.195 37.515 127.442 34.0231 127.44 30.4205C127.44 28.3772 127.038 26.3539 126.255 24.4664C125.473 22.5788 124.326 20.8642 122.88 19.4205ZM19.42 100.86C16.8725 103.408 15.2872 106.76 14.9342 110.345C14.5813 113.93 15.4826 117.527 17.4844 120.522C19.4863 123.518 22.4649 125.726 25.9127 126.771C29.3604 127.816 33.0638 127.633 36.3918 126.254C39.7198 124.874 42.4664 122.383 44.1635 119.205C45.8606 116.027 46.4032 112.359 45.6988 108.826C44.9944 105.293 43.0866 102.114 40.3006 99.8296C37.5145 97.5455 34.0227 96.2983 30.42 96.3005C26.2938 96.3018 22.337 97.9421 19.42 100.86ZM100.86 100.86C98.3125 103.408 96.7272 106.76 96.3742 110.345C96.0213 113.93 96.9226 117.527 98.9244 120.522C100.926 123.518 103.905 125.726 107.353 126.771C110.8 127.816 114.504 127.633 117.832 126.254C121.16 124.874 123.906 122.383 125.604 119.205C127.301 116.027 127.843 112.359 127.139 108.826C126.434 105.293 124.527 102.114 121.741 99.8296C118.955 97.5455 115.463 96.2983 111.86 96.3005C109.817 96.299 107.793 96.701 105.905 97.4835C104.018 98.2661 102.303 99.4136 100.86 100.86Z\" fill=\"#00AEEF\"/>\n",
       "    </g>\n",
       "    <defs>\n",
       "        <clipPath id=\"clip0_4338_178347\">\n",
       "            <rect width=\"566.93\" height=\"223.75\" fill=\"white\"/>\n",
       "        </clipPath>\n",
       "    </defs>\n",
       "  </svg>\n",
       "</div>\n",
       "\n",
       "        <table class=\"jp-RenderedHTMLCommon\" style=\"border-collapse: collapse;color: var(--jp-ui-font-color1);font-size: var(--jp-ui-font-size1);\">\n",
       "    <tr>\n",
       "        <td style=\"text-align: left\"><b>Python version:</b></td>\n",
       "        <td style=\"text-align: left\"><b>3.9.2</b></td>\n",
       "    </tr>\n",
       "    <tr>\n",
       "        <td style=\"text-align: left\"><b>Ray version:</b></td>\n",
       "        <td style=\"text-align: left\"><b>2.10.0</b></td>\n",
       "    </tr>\n",
       "    \n",
       "</table>\n",
       "\n",
       "    </div>\n",
       "</div>\n"
      ],
      "text/plain": [
       "RayContext(dashboard_url='', python_version='3.9.2', ray_version='2.10.0', ray_commit='09abba26b5bf2707639bb637c208d062a47b46f6')"
      ]
     },
     "execution_count": 132,
     "metadata": {},
     "output_type": "execute_result"
    },
    {
     "name": "stderr",
     "output_type": "stream",
     "text": [
      "\u001b[36m(pid=169870)\u001b[0m WARNING:2024-11-01 17:02:57,662:Zarr-based strategies will not be registered because of missing packages\n",
      "\u001b[36m(pid=169870)\u001b[0m /opt/tiger/Megatron-LM/megatron/core/tensor_parallel/layers.py:237: FutureWarning: `torch.cuda.amp.custom_fwd(args...)` is deprecated. Please use `torch.amp.custom_fwd(args..., device_type='cuda')` instead.\n",
      "\u001b[36m(pid=169870)\u001b[0m   def forward(\n",
      "\u001b[36m(pid=169870)\u001b[0m /opt/tiger/Megatron-LM/megatron/core/tensor_parallel/layers.py:248: FutureWarning: `torch.cuda.amp.custom_bwd(args...)` is deprecated. Please use `torch.amp.custom_bwd(args..., device_type='cuda')` instead.\n",
      "\u001b[36m(pid=169870)\u001b[0m   def backward(ctx, grad_output):\n",
      "\u001b[36m(pid=169870)\u001b[0m /opt/tiger/Megatron-LM/megatron/core/tensor_parallel/layers.py:308: FutureWarning: `torch.cuda.amp.custom_fwd(args...)` is deprecated. Please use `torch.amp.custom_fwd(args..., device_type='cuda')` instead.\n",
      "\u001b[36m(pid=169870)\u001b[0m   def forward(\n",
      "\u001b[36m(pid=169870)\u001b[0m /opt/tiger/Megatron-LM/megatron/core/tensor_parallel/layers.py:343: FutureWarning: `torch.cuda.amp.custom_bwd(args...)` is deprecated. Please use `torch.amp.custom_bwd(args..., device_type='cuda')` instead.\n",
      "\u001b[36m(pid=169870)\u001b[0m   def backward(ctx, grad_output):\n",
      "\u001b[36m(pid=170275)\u001b[0m WARNING:2024-11-01 17:03:05,685:Zarr-based strategies will not be registered because of missing packages\n",
      "\u001b[36m(pid=170275)\u001b[0m /opt/tiger/Megatron-LM/megatron/core/tensor_parallel/layers.py:237: FutureWarning: `torch.cuda.amp.custom_fwd(args...)` is deprecated. Please use `torch.amp.custom_fwd(args..., device_type='cuda')` instead.\n",
      "\u001b[36m(pid=170275)\u001b[0m   def forward(\n",
      "\u001b[36m(pid=170275)\u001b[0m /opt/tiger/Megatron-LM/megatron/core/tensor_parallel/layers.py:248: FutureWarning: `torch.cuda.amp.custom_bwd(args...)` is deprecated. Please use `torch.amp.custom_bwd(args..., device_type='cuda')` instead.\n",
      "\u001b[36m(pid=170275)\u001b[0m   def backward(ctx, grad_output):\n",
      "\u001b[36m(pid=170275)\u001b[0m /opt/tiger/Megatron-LM/megatron/core/tensor_parallel/layers.py:308: FutureWarning: `torch.cuda.amp.custom_fwd(args...)` is deprecated. Please use `torch.amp.custom_fwd(args..., device_type='cuda')` instead.\n",
      "\u001b[36m(pid=170275)\u001b[0m   def forward(\n",
      "\u001b[36m(pid=170275)\u001b[0m /opt/tiger/Megatron-LM/megatron/core/tensor_parallel/layers.py:343: FutureWarning: `torch.cuda.amp.custom_bwd(args...)` is deprecated. Please use `torch.amp.custom_bwd(args..., device_type='cuda')` instead.\n",
      "\u001b[36m(pid=170275)\u001b[0m   def backward(ctx, grad_output):\n",
      "\u001b[36m(pid=170277)\u001b[0m WARNING:2024-11-01 17:03:05,707:Zarr-based strategies will not be registered because of missing packages\n",
      "\u001b[36m(MLPLayerWorker pid=169870)\u001b[0m /home/tiger/.local/lib/python3.9/site-packages/torch/storage.py:414: FutureWarning: You are using `torch.load` with `weights_only=False` (the current default value), which uses the default pickle module implicitly. It is possible to construct malicious pickle data which will execute arbitrary code during unpickling (See https://github.com/pytorch/pytorch/blob/main/SECURITY.md#untrusted-models for more details). In a future release, the default value for `weights_only` will be flipped to `True`. This limits the functions that could be executed during unpickling. Arbitrary objects will no longer be allowed to be loaded via this mode unless they are explicitly allowlisted by the user via `torch.serialization.add_safe_globals`. We recommend you start setting `weights_only=True` for any use case where you don't have full control of the loaded file. Please open an issue on GitHub for any issues related to this experimental feature.\n",
      "\u001b[36m(MLPLayerWorker pid=169870)\u001b[0m   return torch.load(io.BytesIO(b))\n",
      "\u001b[36m(MLPLayerWorker pid=169870)\u001b[0m libibverbs: Warning: couldn't open config directory '/etc/libibverbs.d'.\n"
     ]
    },
    {
     "name": "stdout",
     "output_type": "stream",
     "text": [
      "\u001b[36m(MLPLayerWorker pid=169870)\u001b[0m n136-178-012:169870:169870 [0] NCCL INFO NCCL_SOCKET_FAMILY set by environment to AF_INET6\n",
      "\u001b[36m(MLPLayerWorker pid=169870)\u001b[0m n136-178-012:169870:169870 [0] NCCL INFO NCCL_SOCKET_IFNAME set by environment to eth0\n",
      "\u001b[36m(MLPLayerWorker pid=169870)\u001b[0m n136-178-012:169870:169870 [0] NCCL INFO Bootstrap : Using eth0:fdbd:dc03:9:649::12<0>\n",
      "\u001b[36m(MLPLayerWorker pid=169870)\u001b[0m n136-178-012:169870:169870 [0] NCCL INFO NET/Plugin : dlerror=libnccl-net.so: cannot open shared object file: No such file or directory No plugin found (libnccl-net.so), using internal implementation\n",
      "\u001b[36m(MLPLayerWorker pid=169870)\u001b[0m n136-178-012:169870:169870 [0] NCCL INFO cudaDriverVersion 12010\n",
      "\u001b[36m(MLPLayerWorker pid=169870)\u001b[0m NCCL version 2.20.5+cuda12.4\n",
      "\u001b[36m(MLPLayerWorker pid=169870)\u001b[0m n136-178-012:169870:171029 [0] NCCL INFO NCCL_IB_DISABLE set by environment to 0.\n",
      "\u001b[36m(MLPLayerWorker pid=169870)\u001b[0m n136-178-012:169870:171029 [0] NCCL INFO NCCL_SOCKET_FAMILY set by environment to AF_INET6\n",
      "\u001b[36m(MLPLayerWorker pid=169870)\u001b[0m n136-178-012:169870:171029 [0] NCCL INFO NCCL_SOCKET_IFNAME set by environment to eth0\n",
      "\u001b[36m(MLPLayerWorker pid=169870)\u001b[0m n136-178-012:169870:171029 [0] NCCL INFO NCCL_IB_HCA set to mlx5\n",
      "\u001b[36m(MLPLayerWorker pid=169870)\u001b[0m n136-178-012:169870:171029 [0] NCCL INFO NET/IB : No device found.\n",
      "\u001b[36m(MLPLayerWorker pid=169870)\u001b[0m n136-178-012:169870:171029 [0] NCCL INFO NCCL_SOCKET_FAMILY set by environment to AF_INET6\n",
      "\u001b[36m(MLPLayerWorker pid=169870)\u001b[0m n136-178-012:169870:171029 [0] NCCL INFO NCCL_SOCKET_IFNAME set by environment to eth0\n",
      "\u001b[36m(MLPLayerWorker pid=169870)\u001b[0m n136-178-012:169870:171029 [0] NCCL INFO NET/Socket : Using [0]eth0:fdbd:dc03:9:649::12<0>\n",
      "\u001b[36m(MLPLayerWorker pid=169870)\u001b[0m n136-178-012:169870:171029 [0] NCCL INFO Using non-device net plugin version 0\n",
      "\u001b[36m(MLPLayerWorker pid=169870)\u001b[0m n136-178-012:169870:171029 [0] NCCL INFO Using network Socket\n",
      "\u001b[36m(MLPLayerWorker pid=169870)\u001b[0m n136-178-012:169870:171029 [0] NCCL INFO comm 0xe0517c50 rank 0 nranks 4 cudaDev 0 nvmlDev 0 busId 10000 commId 0x95a9016a097a2eb0 - Init START\n",
      "\u001b[36m(MLPLayerWorker pid=169870)\u001b[0m n136-178-012:169870:171029 [0] NCCL INFO === System : maxBw 240.0 totalBw 240.0 ===\n",
      "\u001b[36m(MLPLayerWorker pid=169870)\u001b[0m n136-178-012:169870:171029 [0] NCCL INFO CPU/0 (1/1/2)\n",
      "\u001b[36m(MLPLayerWorker pid=169870)\u001b[0m n136-178-012:169870:171029 [0] NCCL INFO + PCI[24.0] - PCI/A000 (1000c0101000ffff)\n",
      "\u001b[36m(MLPLayerWorker pid=169870)\u001b[0m n136-178-012:169870:171029 [0] NCCL INFO               + PCI[24.0] - PCI/E000 (1000c01010de13b8)\n",
      "\u001b[36m(MLPLayerWorker pid=169870)\u001b[0m n136-178-012:169870:171029 [0] NCCL INFO                             + PCI[24.0] - GPU/10000 (0)\n",
      "\u001b[36m(MLPLayerWorker pid=169870)\u001b[0m n136-178-012:169870:171029 [0] NCCL INFO                                           + NVL[240.0] - NVS/0\n",
      "\u001b[36m(MLPLayerWorker pid=169870)\u001b[0m n136-178-012:169870:171029 [0] NCCL INFO               + PCI[24.0] - PCI/14000 (1000c01010de13b8)\n",
      "\u001b[36m(MLPLayerWorker pid=169870)\u001b[0m n136-178-012:169870:171029 [0] NCCL INFO                             + PCI[24.0] - GPU/16000 (1)\n",
      "\u001b[36m(MLPLayerWorker pid=169870)\u001b[0m n136-178-012:169870:171029 [0] NCCL INFO                                           + NVL[240.0] - NVS/0\n",
      "\u001b[36m(MLPLayerWorker pid=169870)\u001b[0m n136-178-012:169870:171029 [0] NCCL INFO               + PCI[24.0] - NIC/1D000\n",
      "\u001b[36m(MLPLayerWorker pid=169870)\u001b[0m n136-178-012:169870:171029 [0] NCCL INFO + PCI[24.0] - PCI/44000 (1000c0101000ffff)\n",
      "\u001b[36m(MLPLayerWorker pid=169870)\u001b[0m n136-178-012:169870:171029 [0] NCCL INFO               + PCI[24.0] - PCI/48000 (1000c01010de13b8)\n",
      "\u001b[36m(MLPLayerWorker pid=169870)\u001b[0m n136-178-012:169870:171029 [0] NCCL INFO                             + PCI[24.0] - GPU/4A000 (2)\n",
      "\u001b[36m(MLPLayerWorker pid=169870)\u001b[0m n136-178-012:169870:171029 [0] NCCL INFO                                           + NVL[240.0] - NVS/0\n",
      "\u001b[36m(MLPLayerWorker pid=169870)\u001b[0m n136-178-012:169870:171029 [0] NCCL INFO               + PCI[24.0] - PCI/4C000 (1000c01010de13b8)\n",
      "\u001b[36m(MLPLayerWorker pid=169870)\u001b[0m n136-178-012:169870:171029 [0] NCCL INFO                             + PCI[24.0] - GPU/4E000 (3)\n",
      "\u001b[36m(MLPLayerWorker pid=169870)\u001b[0m n136-178-012:169870:171029 [0] NCCL INFO                                           + NVL[240.0] - NVS/0\n",
      "\u001b[36m(MLPLayerWorker pid=169870)\u001b[0m n136-178-012:169870:171029 [0] NCCL INFO ==========================================\n",
      "\u001b[36m(MLPLayerWorker pid=169870)\u001b[0m n136-178-012:169870:171029 [0] NCCL INFO GPU/10000 :GPU/10000 (0/5000.000000/LOC) GPU/16000 (2/240.000000/NVL) GPU/4A000 (2/240.000000/NVL) GPU/4E000 (2/240.000000/NVL) NVS/0 (1/240.000000/NVL) CPU/0 (3/24.000000/PHB) \n",
      "\u001b[36m(MLPLayerWorker pid=169870)\u001b[0m n136-178-012:169870:171029 [0] NCCL INFO GPU/16000 :GPU/10000 (2/240.000000/NVL) GPU/16000 (0/5000.000000/LOC) GPU/4A000 (2/240.000000/NVL) GPU/4E000 (2/240.000000/NVL) NVS/0 (1/240.000000/NVL) CPU/0 (3/24.000000/PHB) \n",
      "\u001b[36m(MLPLayerWorker pid=169870)\u001b[0m n136-178-012:169870:171029 [0] NCCL INFO GPU/4A000 :GPU/10000 (2/240.000000/NVL) GPU/16000 (2/240.000000/NVL) GPU/4A000 (0/5000.000000/LOC) GPU/4E000 (2/240.000000/NVL) NVS/0 (1/240.000000/NVL) CPU/0 (3/24.000000/PHB) \n",
      "\u001b[36m(MLPLayerWorker pid=169870)\u001b[0m n136-178-012:169870:171029 [0] NCCL INFO GPU/4E000 :GPU/10000 (2/240.000000/NVL) GPU/16000 (2/240.000000/NVL) GPU/4A000 (2/240.000000/NVL) GPU/4E000 (0/5000.000000/LOC) NVS/0 (1/240.000000/NVL) CPU/0 (3/24.000000/PHB) \n",
      "\u001b[36m(MLPLayerWorker pid=169870)\u001b[0m n136-178-012:169870:171029 [0] NCCL INFO Setting affinity for GPU 0 to ffffffff,00000000,ffffffff\n",
      "\u001b[36m(MLPLayerWorker pid=169870)\u001b[0m n136-178-012:169870:171029 [0] NCCL INFO NVLS multicast support is not available on dev 0\n",
      "\u001b[36m(MLPLayerWorker pid=169870)\u001b[0m n136-178-012:169870:171029 [0] NCCL INFO Pattern 4, crossNic 0, nChannels 12, bw 20.000000/20.000000, type NVL/PIX, sameChannels 1\n",
      "\u001b[36m(MLPLayerWorker pid=169870)\u001b[0m n136-178-012:169870:171029 [0] NCCL INFO  0 : GPU/0 GPU/1 GPU/2 GPU/3\n",
      "\u001b[36m(MLPLayerWorker pid=169870)\u001b[0m n136-178-012:169870:171029 [0] NCCL INFO  1 : GPU/0 GPU/1 GPU/2 GPU/3\n",
      "\u001b[36m(MLPLayerWorker pid=169870)\u001b[0m n136-178-012:169870:171029 [0] NCCL INFO  2 : GPU/0 GPU/1 GPU/2 GPU/3\n",
      "\u001b[36m(MLPLayerWorker pid=169870)\u001b[0m n136-178-012:169870:171029 [0] NCCL INFO  3 : GPU/0 GPU/1 GPU/2 GPU/3\n",
      "\u001b[36m(MLPLayerWorker pid=169870)\u001b[0m n136-178-012:169870:171029 [0] NCCL INFO  4 : GPU/0 GPU/1 GPU/2 GPU/3\n",
      "\u001b[36m(MLPLayerWorker pid=169870)\u001b[0m n136-178-012:169870:171029 [0] NCCL INFO  5 : GPU/0 GPU/1 GPU/2 GPU/3\n",
      "\u001b[36m(MLPLayerWorker pid=169870)\u001b[0m n136-178-012:169870:171029 [0] NCCL INFO  6 : GPU/0 GPU/1 GPU/2 GPU/3\n",
      "\u001b[36m(MLPLayerWorker pid=169870)\u001b[0m n136-178-012:169870:171029 [0] NCCL INFO  7 : GPU/0 GPU/1 GPU/2 GPU/3\n",
      "\u001b[36m(MLPLayerWorker pid=169870)\u001b[0m n136-178-012:169870:171029 [0] NCCL INFO  8 : GPU/0 GPU/1 GPU/2 GPU/3\n",
      "\u001b[36m(MLPLayerWorker pid=169870)\u001b[0m n136-178-012:169870:171029 [0] NCCL INFO  9 : GPU/0 GPU/1 GPU/2 GPU/3\n",
      "\u001b[36m(MLPLayerWorker pid=169870)\u001b[0m n136-178-012:169870:171029 [0] NCCL INFO 10 : GPU/0 GPU/1 GPU/2 GPU/3\n",
      "\u001b[36m(MLPLayerWorker pid=169870)\u001b[0m n136-178-012:169870:171029 [0] NCCL INFO 11 : GPU/0 GPU/1 GPU/2 GPU/3\n",
      "\u001b[36m(MLPLayerWorker pid=169870)\u001b[0m n136-178-012:169870:171029 [0] NCCL INFO Pattern 1, crossNic 0, nChannels 12, bw 20.000000/20.000000, type NVL/PIX, sameChannels 1\n",
      "\u001b[36m(MLPLayerWorker pid=169870)\u001b[0m n136-178-012:169870:171029 [0] NCCL INFO  0 : GPU/0 GPU/1 GPU/2 GPU/3\n",
      "\u001b[36m(MLPLayerWorker pid=169870)\u001b[0m n136-178-012:169870:171029 [0] NCCL INFO  1 : GPU/0 GPU/1 GPU/2 GPU/3\n",
      "\u001b[36m(MLPLayerWorker pid=169870)\u001b[0m n136-178-012:169870:171029 [0] NCCL INFO  2 : GPU/0 GPU/1 GPU/2 GPU/3\n",
      "\u001b[36m(MLPLayerWorker pid=169870)\u001b[0m n136-178-012:169870:171029 [0] NCCL INFO  3 : GPU/0 GPU/1 GPU/2 GPU/3\n",
      "\u001b[36m(MLPLayerWorker pid=169870)\u001b[0m n136-178-012:169870:171029 [0] NCCL INFO  4 : GPU/0 GPU/1 GPU/2 GPU/3\n",
      "\u001b[36m(MLPLayerWorker pid=169870)\u001b[0m n136-178-012:169870:171029 [0] NCCL INFO  5 : GPU/0 GPU/1 GPU/2 GPU/3\n",
      "\u001b[36m(MLPLayerWorker pid=169870)\u001b[0m n136-178-012:169870:171029 [0] NCCL INFO  6 : GPU/0 GPU/1 GPU/2 GPU/3\n",
      "\u001b[36m(MLPLayerWorker pid=169870)\u001b[0m n136-178-012:169870:171029 [0] NCCL INFO  7 : GPU/0 GPU/1 GPU/2 GPU/3\n",
      "\u001b[36m(MLPLayerWorker pid=169870)\u001b[0m n136-178-012:169870:171029 [0] NCCL INFO  8 : GPU/0 GPU/1 GPU/2 GPU/3\n",
      "\u001b[36m(MLPLayerWorker pid=169870)\u001b[0m n136-178-012:169870:171029 [0] NCCL INFO  9 : GPU/0 GPU/1 GPU/2 GPU/3\n",
      "\u001b[36m(MLPLayerWorker pid=169870)\u001b[0m n136-178-012:169870:171029 [0] NCCL INFO 10 : GPU/0 GPU/1 GPU/2 GPU/3\n",
      "\u001b[36m(MLPLayerWorker pid=169870)\u001b[0m n136-178-012:169870:171029 [0] NCCL INFO 11 : GPU/0 GPU/1 GPU/2 GPU/3\n",
      "\u001b[36m(MLPLayerWorker pid=169870)\u001b[0m n136-178-012:169870:171029 [0] NCCL INFO comm 0xe0517c50 rank 0 nRanks 4 nNodes 1 localRanks 4 localRank 0 MNNVL 0\n",
      "\u001b[36m(MLPLayerWorker pid=169870)\u001b[0m n136-178-012:169870:171029 [0] NCCL INFO Tree 0 : -1 -> 0 -> 1/-1/-1\n",
      "\u001b[36m(MLPLayerWorker pid=169870)\u001b[0m n136-178-012:169870:171029 [0] NCCL INFO Tree 12 : -1 -> 0 -> 1/-1/-1\n",
      "\u001b[36m(MLPLayerWorker pid=169870)\u001b[0m n136-178-012:169870:171029 [0] NCCL INFO Tree 1 : -1 -> 0 -> 1/-1/-1\n",
      "\u001b[36m(MLPLayerWorker pid=169870)\u001b[0m n136-178-012:169870:171029 [0] NCCL INFO Tree 13 : -1 -> 0 -> 1/-1/-1\n",
      "\u001b[36m(MLPLayerWorker pid=169870)\u001b[0m n136-178-012:169870:171029 [0] NCCL INFO Tree 2 : -1 -> 0 -> 1/-1/-1\n",
      "\u001b[36m(MLPLayerWorker pid=169870)\u001b[0m n136-178-012:169870:171029 [0] NCCL INFO Tree 14 : -1 -> 0 -> 1/-1/-1\n",
      "\u001b[36m(MLPLayerWorker pid=169870)\u001b[0m n136-178-012:169870:171029 [0] NCCL INFO Tree 3 : -1 -> 0 -> 1/-1/-1\n",
      "\u001b[36m(MLPLayerWorker pid=169870)\u001b[0m n136-178-012:169870:171029 [0] NCCL INFO Tree 15 : -1 -> 0 -> 1/-1/-1\n",
      "\u001b[36m(MLPLayerWorker pid=169870)\u001b[0m n136-178-012:169870:171029 [0] NCCL INFO Tree 4 : -1 -> 0 -> 1/-1/-1\n",
      "\u001b[36m(MLPLayerWorker pid=169870)\u001b[0m n136-178-012:169870:171029 [0] NCCL INFO Tree 16 : -1 -> 0 -> 1/-1/-1\n",
      "\u001b[36m(MLPLayerWorker pid=169870)\u001b[0m n136-178-012:169870:171029 [0] NCCL INFO Tree 5 : -1 -> 0 -> 1/-1/-1\n",
      "\u001b[36m(MLPLayerWorker pid=169870)\u001b[0m n136-178-012:169870:171029 [0] NCCL INFO Tree 17 : -1 -> 0 -> 1/-1/-1\n",
      "\u001b[36m(MLPLayerWorker pid=169870)\u001b[0m n136-178-012:169870:171029 [0] NCCL INFO Tree 6 : -1 -> 0 -> 1/-1/-1\n",
      "\u001b[36m(MLPLayerWorker pid=169870)\u001b[0m n136-178-012:169870:171029 [0] NCCL INFO Tree 18 : -1 -> 0 -> 1/-1/-1\n",
      "\u001b[36m(MLPLayerWorker pid=169870)\u001b[0m n136-178-012:169870:171029 [0] NCCL INFO Tree 7 : -1 -> 0 -> 1/-1/-1\n",
      "\u001b[36m(MLPLayerWorker pid=169870)\u001b[0m n136-178-012:169870:171029 [0] NCCL INFO Tree 19 : -1 -> 0 -> 1/-1/-1\n",
      "\u001b[36m(MLPLayerWorker pid=169870)\u001b[0m n136-178-012:169870:171029 [0] NCCL INFO Tree 8 : -1 -> 0 -> 1/-1/-1\n",
      "\u001b[36m(MLPLayerWorker pid=169870)\u001b[0m n136-178-012:169870:171029 [0] NCCL INFO Tree 20 : -1 -> 0 -> 1/-1/-1\n",
      "\u001b[36m(MLPLayerWorker pid=169870)\u001b[0m n136-178-012:169870:171029 [0] NCCL INFO Tree 9 : -1 -> 0 -> 1/-1/-1\n",
      "\u001b[36m(MLPLayerWorker pid=169870)\u001b[0m n136-178-012:169870:171029 [0] NCCL INFO Tree 21 : -1 -> 0 -> 1/-1/-1\n",
      "\u001b[36m(MLPLayerWorker pid=169870)\u001b[0m n136-178-012:169870:171029 [0] NCCL INFO Tree 10 : -1 -> 0 -> 1/-1/-1\n",
      "\u001b[36m(MLPLayerWorker pid=169870)\u001b[0m n136-178-012:169870:171029 [0] NCCL INFO Tree 22 : -1 -> 0 -> 1/-1/-1\n",
      "\u001b[36m(MLPLayerWorker pid=169870)\u001b[0m n136-178-012:169870:171029 [0] NCCL INFO Tree 11 : -1 -> 0 -> 1/-1/-1\n",
      "\u001b[36m(MLPLayerWorker pid=169870)\u001b[0m n136-178-012:169870:171029 [0] NCCL INFO Tree 23 : -1 -> 0 -> 1/-1/-1\n",
      "\u001b[36m(MLPLayerWorker pid=169870)\u001b[0m n136-178-012:169870:171029 [0] NCCL INFO Channel 00/24 :    0   1   2   3\n",
      "\u001b[36m(MLPLayerWorker pid=169870)\u001b[0m n136-178-012:169870:171029 [0] NCCL INFO Channel 01/24 :    0   1   2   3\n",
      "\u001b[36m(MLPLayerWorker pid=169870)\u001b[0m n136-178-012:169870:171029 [0] NCCL INFO Channel 02/24 :    0   1   2   3\n",
      "\u001b[36m(MLPLayerWorker pid=169870)\u001b[0m n136-178-012:169870:171029 [0] NCCL INFO Channel 03/24 :    0   1   2   3\n",
      "\u001b[36m(MLPLayerWorker pid=169870)\u001b[0m n136-178-012:169870:171029 [0] NCCL INFO Channel 04/24 :    0   1   2   3\n",
      "\u001b[36m(MLPLayerWorker pid=169870)\u001b[0m n136-178-012:169870:171029 [0] NCCL INFO Channel 05/24 :    0   1   2   3\n",
      "\u001b[36m(MLPLayerWorker pid=169870)\u001b[0m n136-178-012:169870:171029 [0] NCCL INFO Channel 06/24 :    0   1   2   3\n",
      "\u001b[36m(MLPLayerWorker pid=169870)\u001b[0m n136-178-012:169870:171029 [0] NCCL INFO Channel 07/24 :    0   1   2   3\n",
      "\u001b[36m(MLPLayerWorker pid=169870)\u001b[0m n136-178-012:169870:171029 [0] NCCL INFO Channel 08/24 :    0   1   2   3\n",
      "\u001b[36m(MLPLayerWorker pid=169870)\u001b[0m n136-178-012:169870:171029 [0] NCCL INFO Channel 09/24 :    0   1   2   3\n",
      "\u001b[36m(MLPLayerWorker pid=169870)\u001b[0m n136-178-012:169870:171029 [0] NCCL INFO Channel 10\n",
      "\u001b[36m(MLPLayerWorker pid=170277)\u001b[0m n136-178-012:170277:171033 [0] NCCL INFO Ring 00 : 2 -> 3 -> 0\n",
      "\u001b[36m(MLPLayerWorker pid=170277)\u001b[0m n136-178-012:170277:171033 [0] NCCL INFO Ring 01 : 2 -> 3 -> 0\n",
      "\u001b[36m(MLPLayerWorker pid=170277)\u001b[0m n136-178-012:170277:171033 [0] NCCL INFO Ring 02 : 2 -> 3 -> 0\n",
      "\u001b[36m(MLPLayerWorker pid=170277)\u001b[0m n136-178-012:170277:171033 [0] NCCL INFO Ring 03 : 2 -> 3 -> 0\n",
      "\u001b[36m(MLPLayerWorker pid=170277)\u001b[0m n136-178-012:170277:171033 [0] NCCL INFO Ring 04 : 2 -> 3 -> 0\n",
      "\u001b[36m(MLPLayerWorker pid=170277)\u001b[0m n136-178-012:170277:171033 [0] NCCL INFO Ring 05 : 2 -> 3 -> 0\n",
      "\u001b[36m(MLPLayerWorker pid=170277)\u001b[0m n136-178-012:170277:171033 [0] NCCL INFO Ring 06 : 2 -> 3 -> 0\n",
      "\u001b[36m(MLPLayerWorker pid=170277)\u001b[0m n136-178-012:170277:171033 [0] NCCL INFO Ring 07 : 2 -> 3 -> 0\n",
      "\u001b[36m(MLPLayerWorker pid=170277)\u001b[0m n136-178-012:170277:171033 [0] NCCL INFO Ring 08 : 2 -> 3 -> 0\n",
      "\u001b[36m(MLPLayerWorker pid=170277)\u001b[0m n136-178-012:170277:171033 [0] NCCL INFO Ring 09 : 2 -> 3 -> 0\n",
      "\u001b[36m(MLPLayerWorker pid=170277)\u001b[0m n136-178-012:170277:171033 [0] NCCL INFO Ring 10 : 2 -> 3 -> 0\n",
      "\u001b[36m(MLPLayerWorker pid=170277)\u001b[0m n136-178-012:170277:171033 [0] NCCL INFO Ring 11 : 2 -> 3 -> 0\n",
      "\u001b[36m(MLPLayerWorker pid=170277)\u001b[0m n136-178-012:170277:171033 [0] NCCL INFO Ring 12 : 2 -> 3 -> 0\n",
      "\u001b[36m(MLPLayerWorker pid=170277)\u001b[0m n136-178-012:170277:171033 [0] NCCL INFO Ring 13 : 2 -> 3 -> 0\n",
      "\u001b[36m(MLPLayerWorker pid=170277)\u001b[0m n136-178-012:170277:171033 [0] NCCL INFO Ring 14 : 2 -> 3 -> 0\n",
      "\u001b[36m(MLPLayerWorker pid=170277)\u001b[0m n136-178-012:170277:171033 [0] NCCL INFO Ring 15 : 2 -> 3 -> 0\n",
      "\u001b[36m(MLPLayerWorker pid=170277)\u001b[0m n136-178-012:170277:171033 [0] NCCL INFO Ring 16 : 2 -> 3 -> 0\n",
      "\u001b[36m(MLPLayerWorker pid=170277)\u001b[0m n136-178-012:170277:171033 [0] NCCL INFO Ring 17 : 2 -> 3 -> 0\n",
      "\u001b[36m(MLPLayerWorker pid=170277)\u001b[0m n136-178-012:170277:171033 [0] NCCL INFO Ring 18 : 2 -> 3 -> 0\n",
      "\u001b[36m(MLPLayerWorker pid=170277)\u001b[0m n136-178-012:170277:171033 [0] NCCL INFO Ring 19 : 2 -> 3 -> 0\n",
      "\u001b[36m(MLPLayerWorker pid=170277)\u001b[0m n136-178-012:170277:171033 [0] NCCL INFO Ring 20 : 2 -> 3 -> 0\n",
      "\u001b[36m(MLPLayerWorker pid=170277)\u001b[0m n136-178-012:170277:171033 [0] NCCL INFO Ring 21 : 2 -> 3 -> 0\n",
      "\u001b[36m(MLPLayerWorker pid=170277)\u001b[0m n136-178-012:170277:171033 [0] NCCL INFO Ring 22 : 2 -> 3 -> 0\n",
      "\u001b[36m(MLPLayerWorker pid=170277)\u001b[0m n136-178-012:170277:171033 [0] NCCL INFO Ring 23 : 2 -> 3 -> 0\n",
      "\u001b[36m(MLPLayerWorker pid=170277)\u001b[0m n136-178-012:170277:171033 [0] NCCL INFO Trees [0] -1/-1/-1->3->2 [1] -1/-1/-1->3->2 [2] -1/-1/-1->3->2 [3] -1/-1/-1->3->2 [4] -1/-1/-1->3->2 [5] -1/-1/-1->3->2 [6] -1/-1/-1->3->2 [7] -1/-1/-1->3->2 [8] -1/-1/-1->3->2 [9] -1/-1/-1->3->2 [10] -1/-1/-1->3->2 [11] -1/-1/-1->3->2 [12] -1/-1/-1->3->2 [13] -1/-1/-1->3->2 [14] -1/-1/-1->3->2 [15] -1/-1/-1->3->2 [16] -1/-1/-1->3->2 [17] -1/-1/-1->3->2 [18] -1/-1/-1->3->2 [1\n",
      "\u001b[36m(MLPLayerWorker pid=170275)\u001b[0m n136-178-012:170275:171031 [0] NC\n",
      "\u001b[36m(MLPLayerWorker pid=169870)\u001b[0m /24 :    0   1   2   3\n",
      "\u001b[36m(MLPLayerWorker pid=169870)\u001b[0m n136-178-012:169870:171029 [0] NCCL INFO Channel 11/24 :    0   1   2   3\n",
      "\u001b[36m(MLPLayerWorker pid=169870)\u001b[0m n136-178-012:169870:171029 [0] NCCL INFO Channel 12/24 :    0   1   2   3\n",
      "\u001b[36m(MLPLayerWorker pid=169870)\u001b[0m n136-178-012:169870:171029 [0] NCCL INFO Channel 13/24 :    0   1   2   3\n",
      "\u001b[36m(MLPLayerWorker pid=169870)\u001b[0m n136-178-012:169870:171029 [0] NCCL INFO Channel 14/24 :    0   1   2   3\n",
      "\u001b[36m(MLPLayerWorker pid=169870)\u001b[0m n136-178-012:169870:171029 [0] NCCL INFO Channel 15/24 :    0   1   2   3\n",
      "\u001b[36m(MLPLayerWorker pid=169870)\u001b[0m n136-178-012:169870:171029 [0] NCCL INFO Channel 16/24 :    0   1   2   3\n",
      "\u001b[36m(MLPLayerWorker pid=169870)\u001b[0m n136-178-012:169870:171029 [0] NCCL INFO Channel 17/24 :    0   1   2   3\n",
      "\u001b[36m(MLPLayerWorker pid=169870)\u001b[0m n136-178-012:169870:171029 [0] NCCL INFO Channel 18/24 :    0   1   2   3\n",
      "\u001b[36m(MLPLayerWorker pid=169870)\u001b[0m n136-178-012:169870:171029 [0] NCCL INFO Channel 19/24 :    0   1   2   3\n",
      "\u001b[36m(MLPLayerWorker pid=169870)\u001b[0m n136-178-012:169870:171029 [0] NCCL INFO Channel 20/24 :    0   1   2   3\n",
      "\u001b[36m(MLPLayerWorker pid=169870)\u001b[0m n136-178-012:169870:171029 [0] NCCL INFO Channel 21/24 :    0   1   2   3\n",
      "\u001b[36m(MLPLayerWorker pid=169870)\u001b[0m n136-178-012:169870:171029 [0] NCCL INFO Channel 22/24 :    0   1   2   3\n",
      "\u001b[36m(MLPLayerWorker pid=169870)\u001b[0m n136-178-012:169870:171029 [0] NCCL INFO Channel 23/24 :    0   1   2   3\n",
      "\u001b[36m(MLPLayerWorker pid=169870)\u001b[0m n136-178-012:169870:171029 [0] NCCL INFO P2P Chunksize set to 524288\n",
      "\u001b[36m(MLPLayerWorker pid=169870)\u001b[0m n136-178-012:169870:171029 [0] NCCL INFO Channel 00/0 : 0[0] -> 1[1] via P2P/CUMEM/read\n",
      "\u001b[36m(MLPLayerWorker pid=169870)\u001b[0m n136-178-012:169870:171029 [0] NCCL INFO Channel 01/0 : 0[0] -> 1[1] via P2P/CUMEM/read\n",
      "\u001b[36m(MLPLayerWorker pid=169870)\u001b[0m n136-178-012:169870:171029 [0] NCCL INFO Channel 02/0 : 0[0] -> 1[1] via P2P/CUMEM/read\n",
      "\u001b[36m(MLPLayerWorker pid=169870)\u001b[0m n136-178-012:169870:171029 [0] NCCL INFO Channel 03/0 : 0[0] -> 1[1] via P2P/CUMEM/read\n",
      "\u001b[36m(MLPLayerWorker pid=169870)\u001b[0m n136-178-012:169870:171029 [0] NCCL INFO Channel 04/0 : 0[0] -> 1[1] via P2P/CUMEM/read\n",
      "\u001b[36m(MLPLayerWorker pid=169870)\u001b[0m n136-178-012:169870:171029 [0] NCCL INFO Channel 05/0 : 0[0] -> 1[1] via P2P/CUMEM/read\n",
      "\u001b[36m(MLPLayerWorker pid=169870)\u001b[0m n136-178-012:169870:171029 [0] NCCL INFO Channel 06/0 : 0[0] -> 1[1] via P2P/CUMEM/read\n",
      "\u001b[36m(MLPLayerWorker pid=169870)\u001b[0m n136-178-012:169870:171029 [0] NCCL INFO Channel 07/0 : 0[0] -> 1[1] via P2P/CUMEM/read\n",
      "\u001b[36m(MLPLayerWorker pid=169870)\u001b[0m n136-178-012:169870:171029 [0] NCCL INFO Channel 08/0 : 0[0] -> 1[1] via P2P/CUMEM/read\n",
      "\u001b[36m(MLPLayerWorker pid=169870)\u001b[0m n136-178-012:169870:171029 [0] NCCL INFO Channel 09/0 : 0[0] -> 1[1] via P2P/CUMEM/read\n",
      "\u001b[36m(MLPLayerWorker pid=169870)\u001b[0m n136-178-012:169870:171029 [0] NCCL INFO Channel 10/0 : 0[0] -> 1[1] via P2P/CUMEM/read\n",
      "\u001b[36m(MLPLayerWorker pid=169870)\u001b[0m n136-178-012:169870:171029 [0] NCCL INFO Chan\n",
      "\u001b[36m(MLPLayerWorker pid=170277)\u001b[0m 9] -1/-1/-1->3->2 [20] -1/-1/-1->3->2 [21] -1/-1/-1->3->2 [22] -1/-1/-1->3->2 [23] -1/-1/-1->3->2\n",
      "\u001b[36m(MLPLayerWorker pid=170277)\u001b[0m n136-178-012:170277:171033 [0] NCCL INFO Connected all rings\n",
      "\u001b[36m(MLPLayerWorker pid=170275)\u001b[0m CL INFO Ring 04 : 0 -> 1 -> 2\n",
      "\u001b[36m(MLPLayerWorker pid=170275)\u001b[0m n136-178-012:170275:171031 [0] NCCL INFO Chann\n"
     ]
    }
   ],
   "source": [
    "# Build a local ray cluster. The head node and worker node are on this machine\n",
    "ray.init()"
   ]
  },
  {
   "cell_type": "markdown",
   "id": "47a5c939",
   "metadata": {},
   "source": [
    "Finally, we implement a `NVMegatronRayWorkerGroup`, within which we create a Megatron and then run a tensor parallel (tp) split Llama mlp layer. Here, we use a complex dispatch mode, `Megatron_COMPUTE`. This dispatch mode assumes that user passes the data partitioned by DP dimension. The data is dispatched to all tp/pp ranks within the same dp group, and ultimately only collects output data from tp=0 and the last pp. In this way, for users that only write code on the driver, the Megatron behind the RPC becomes transparent."
   ]
  },
  {
   "cell_type": "code",
   "execution_count": 133,
   "id": "de57ee3e",
   "metadata": {
    "tags": []
   },
   "outputs": [
    {
     "name": "stdout",
     "output_type": "stream",
     "text": [
      "/opt/tiger/Megatron-LM\n",
      "/opt/tiger/Megatron-LM/megatron/__init__.py\n"
     ]
    }
   ],
   "source": [
    "import os\n",
    "import sys\n",
    "import site\n",
    "\n",
    "\n",
    "current_pythonpath = os.environ.get('PYTHONPATH', '')\n",
    "\n",
    "new_path = '/opt/tiger/Megatron-LM'\n",
    "\n",
    "if current_pythonpath:\n",
    "    new_pythonpath = f'{new_path}:{current_pythonpath}'\n",
    "else:\n",
    "    new_pythonpath = new_path\n",
    "\n",
    "os.environ['PYTHONPATH'] = new_pythonpath\n",
    "\n",
    "print(new_path)\n",
    "sys.path.append(new_path)\n",
    "\n",
    "import megatron\n",
    "print(megatron.__file__)"
   ]
  },
  {
   "cell_type": "code",
   "execution_count": 134,
   "id": "f5d39118",
   "metadata": {
    "tags": []
   },
   "outputs": [],
   "source": [
    "from single_controller.ray.decorator import register, Dispatch, Execute\n",
    "from single_controller.ray.megatron import NVMegatronRayWorkerGroup\n",
    "from single_controller.base.megatron.worker import MegatronWorker\n",
    "from single_controller.ray.base import RayResourcePool, RayClassWithInitArgs, RayWorkerGroup\n",
    "from omegaconf import OmegaConf\n",
    "from megatron.core import parallel_state as mpu"
   ]
  },
  {
   "cell_type": "code",
   "execution_count": 135,
   "id": "f2ccba51",
   "metadata": {
    "tags": []
   },
   "outputs": [],
   "source": [
    "resource_pool = RayResourcePool([4], use_gpu=True, max_colocate_count=1)"
   ]
  },
  {
   "cell_type": "code",
   "execution_count": 136,
   "id": "60b8b10a",
   "metadata": {
    "tags": []
   },
   "outputs": [],
   "source": [
    "@ray.remote\n",
    "class MLPLayerWorker(MegatronWorker):\n",
    "    def __init__(self):\n",
    "        super().__init__()\n",
    "        rank = int(os.environ['LOCAL_RANK'])\n",
    "        torch.distributed.init_process_group(backend=\"nccl\")\n",
    "        torch.cuda.set_device(rank)\n",
    "\n",
    "        mpu.initialize_model_parallel(\n",
    "                tensor_model_parallel_size=4,\n",
    "                pipeline_model_parallel_size=1,\n",
    "                virtual_pipeline_model_parallel_size=None,\n",
    "                pipeline_model_parallel_split_rank=None,\n",
    "                use_sharp=False,\n",
    "                context_parallel_size=1,\n",
    "                expert_model_parallel_size=1,\n",
    "                nccl_communicator_config_path=None,\n",
    "            )\n",
    "        from megatron.core import tensor_parallel\n",
    "        tensor_parallel.model_parallel_cuda_manual_seed(10)\n",
    "\n",
    "\n",
    "    @register(Dispatch.ONE_TO_ALL)\n",
    "    def init_model(self, config):\n",
    "        from omegaconf import OmegaConf\n",
    "        from verl.utils.megatron_utils import init_model_parallel_config\n",
    "        from verl.models.llama.megatron.layers import ParallelLlamaMLP\n",
    "        megatron_config = OmegaConf.create({\n",
    "            'sequence_parallel': False,\n",
    "            'param_dtype': 'fp32',\n",
    "            'tensor_model_parallel_size': mpu.get_tensor_model_parallel_world_size(),\n",
    "            'pipeline_model_parallel_rank': mpu.get_pipeline_model_parallel_rank(),\n",
    "            'pipeline_model_parallel_size': mpu.get_pipeline_model_parallel_world_size(),\n",
    "            'virtual_pipeline_model_parallel_rank': mpu.get_virtual_pipeline_model_parallel_rank(),\n",
    "            'virtual_pipeline_model_parallel_size': mpu.get_virtual_pipeline_model_parallel_world_size()\n",
    "        })\n",
    "\n",
    "        megatron_config = init_model_parallel_config(megatron_config)\n",
    "        self.parallel_layer = ParallelLlamaMLP(config=config, megatron_config=megatron_config)\n",
    "    \n",
    "    @register(Dispatch.ONE_TO_ALL)\n",
    "    def get_weights(self):\n",
    "        output = {}\n",
    "        for key, val in self.parallel_layer.named_parameters():\n",
    "            output[key] = val\n",
    "        return output\n",
    "    \n",
    "    @register(Dispatch.MEGATRON_COMPUTE)\n",
    "    def run_layer(self, x):\n",
    "        x = x.to('cuda')\n",
    "        y = self.parallel_layer(x)\n",
    "        return y"
   ]
  },
  {
   "cell_type": "code",
   "execution_count": 137,
   "id": "6330ee60",
   "metadata": {
    "tags": []
   },
   "outputs": [],
   "source": [
    "layer_cls = RayClassWithInitArgs(cls=MLPLayerWorker)\n",
    "layer_worker_group = NVMegatronRayWorkerGroup(resource_pool=resource_pool,\n",
    "                                            ray_cls_with_init=layer_cls,\n",
    "                                            )\n"
   ]
  },
  {
   "cell_type": "code",
   "execution_count": 138,
   "id": "dcbf9413",
   "metadata": {
    "tags": []
   },
   "outputs": [
    {
     "name": "stdout",
     "output_type": "stream",
     "text": [
      "4 4 1 1\n"
     ]
    }
   ],
   "source": [
    "print(layer_worker_group.world_size, layer_worker_group.tp_size, layer_worker_group.pp_size, layer_worker_group.dp_size)"
   ]
  },
  {
   "cell_type": "code",
   "execution_count": 139,
   "id": "6e70d36c",
   "metadata": {
    "tags": []
   },
   "outputs": [],
   "source": [
    "ffn_hidden_size = 11008\n",
    "batch_size = 16\n",
    "seq_len = 2048\n",
    "hidden_size = 4096\n",
    "\n",
    "config = OmegaConf.create({\n",
    "    'hidden_size': hidden_size,\n",
    "    'intermediate_size': ffn_hidden_size,\n",
    "    'hidden_act': 'silu',\n",
    "    'pretraining_tp': 1,\n",
    "    'tp': layer_worker_group.tp_size,\n",
    "})"
   ]
  },
  {
   "cell_type": "code",
   "execution_count": 140,
   "id": "48098e11",
   "metadata": {
    "tags": []
   },
   "outputs": [],
   "source": [
    "x = torch.rand(size=(seq_len, batch_size, hidden_size), dtype=torch.float32)"
   ]
  },
  {
   "cell_type": "code",
   "execution_count": 141,
   "id": "147e6316",
   "metadata": {
    "tags": []
   },
   "outputs": [
    {
     "data": {
      "text/plain": [
       "[None, None, None, None]"
      ]
     },
     "execution_count": 141,
     "metadata": {},
     "output_type": "execute_result"
    }
   ],
   "source": [
    "layer_worker_group.init_model(config)"
   ]
  },
  {
   "cell_type": "code",
   "execution_count": 142,
   "id": "d36b28ce",
   "metadata": {
    "tags": []
   },
   "outputs": [
    {
     "name": "stdout",
     "output_type": "stream",
     "text": [
      "torch.Size([2048, 16, 4096])\n"
     ]
    }
   ],
   "source": [
    "output = layer_worker_group.run_layer([x])  # This must be a list of size 1, ensuring that the input equals the data parallel (dp).\n",
    "print(output[0].shape)"
   ]
  },
  {
   "cell_type": "code",
   "execution_count": 143,
   "id": "1d3c51e0",
   "metadata": {
    "tags": []
   },
   "outputs": [],
   "source": [
    "# Shutdown ray cluster\n",
    "ray.shutdown()"
   ]
  },
  {
   "cell_type": "code",
   "execution_count": null,
   "id": "ead0f927",
   "metadata": {},
   "outputs": [],
   "source": []
  }
 ],
 "metadata": {
  "kernelspec": {
   "display_name": "Python 3 (ipykernel)",
   "language": "python",
   "name": "python3"
  },
  "language_info": {
   "codemirror_mode": {
    "name": "ipython",
    "version": 3
   },
   "file_extension": ".py",
   "mimetype": "text/x-python",
   "name": "python",
   "nbconvert_exporter": "python",
   "pygments_lexer": "ipython3",
   "version": "3.9.2"
  }
 },
 "nbformat": 4,
 "nbformat_minor": 5
}
